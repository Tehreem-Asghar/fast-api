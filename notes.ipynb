{
 "cells": [
  {
   "cell_type": "markdown",
   "metadata": {},
   "source": [
    "fast api ek framwork hai api bnana ka liya "
   ]
  },
  {
   "cell_type": "markdown",
   "metadata": {},
   "source": [
    "1) uv init fastapi-api\n",
    "2) uv init fastapi-api\n",
    "3) .venv\\Scripts\\activate\n",
    "4) fastapi dev main.py\n",
    "5) http://127.0.0.1:8000/docs\n",
    "6) http://127.0.0.1:8000/redoc\n",
    "7) http://127.0.0.1:8000/side_husteles\n",
    "8) http://127.0.0.1:8000/money_quotes\n",
    "# After Authentication\n",
    "9) http://127.0.0.1:8000/side_husteles?api_key=123456789\n",
    "10) http://127.0.0.1:8000/money_quotes?api_key=123456789\n",
    "\n",
    "\n"
   ]
  },
  {
   "cell_type": "markdown",
   "metadata": {},
   "source": [
    "FastAPI me Swagger ek interactive API documentation hoti hai jo automatically generate hoti hai. Ye API endpoints ko visualize karne, test karne aur unka documentation dekhne ke liye use hoti hai.\n",
    "\n",
    "Swagger in FastAPI\n",
    "FastAPI Swagger UI aur Redoc dono ko support karta hai. Default Swagger UI dekhne ke liye:\n",
    "\n",
    "Swagger UI: http://127.0.0.1:8000/docs\n",
    "Redoc UI: http://127.0.0.1:8000/redoc\n",
    "Example Code\n",
    "Agar tum ek simple FastAPI app banao, toh Swagger UI automatically enable hota hai:\n",
    "\n",
    "\n",
    "from fastapi import FastAPI\n",
    "\n",
    "app = FastAPI()\n",
    "\n",
    "@app.get(\"/\")\n",
    "def read_root():\n",
    "\n",
    "    return {\"message\": \"Hello, FastAPI!\"}\n",
    "\n",
    "Ab agar tum http://127.0.0.1:8000/docs par jao, toh wahan Swagger UI dikhai dega jo tumhari API ka documentation aur interactive testing provide karega.\n",
    "\n",
    "Swagger ko Customize Karna\n",
    "\n",
    "Agar tum Swagger UI ka title aur description change karna chaho, toh FastAPI me aise kar sakte ho:\n",
    "\n",
    "\n",
    "app = FastAPI(\n",
    "\n",
    "    title=\"My API\",\n",
    "\n",
    "    description=\"This is a custom FastAPI Swagger UI\",\n",
    "\n",
    "    version=\"1.0.0\"\n",
    ")\n",
    "\n",
    "Agar tum Swagger ko disable karna chaho, toh ye kar sakte ho:\n",
    "\n",
    "app = FastAPI(docs_url=None, redoc_url=None)\n",
    "\n",
    "Matlab FastAPI me Swagger ek built-in feature hai jo API ka documentation aur testing asaan bana deta hai. 🚀"
   ]
  },
  {
   "cell_type": "markdown",
   "metadata": {},
   "source": []
  }
 ],
 "metadata": {
  "language_info": {
   "name": "python"
  }
 },
 "nbformat": 4,
 "nbformat_minor": 2
}
